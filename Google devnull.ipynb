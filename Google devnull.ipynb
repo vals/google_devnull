{
 "metadata": {
  "name": "Google devnull"
 },
 "nbformat": 3,
 "nbformat_minor": 0,
 "worksheets": [
  {
   "cells": [
    {
     "cell_type": "markdown",
     "metadata": {},
     "source": [
      "## Challenge: 1\n",
      "\n",
      "When logged in to the game system, your browser will have two new cookies set, \u2018devnull_session\u2019 and \u2018devnull_apikey\u2019. The first one is recreated for each login, but the second one will be the same between sessions. Either one can be used as \u2018session\u2019 variable when making a call to the API.\n",
      "\n",
      "Each team can create a party of up to three player characters, who can explore the dungeons. To see which characters are in the party (currently none), use the following API call;\n",
      "\n",
      "    /api3/?session=<session-key>&command=getparty\n",
      "\n",
      "To make sure that the server isn\u2019t overloaded during gameplay, create a request dispatcher that squelches requests per second to the server. \n",
      "\n",
      "Demonstrate both that information can be fetched (using the getparty call) and that the squelch works when you try to send more than 10 requests per seconds to the server.\n"
     ]
    },
    {
     "cell_type": "code",
     "collapsed": false,
     "input": [
      "import requests"
     ],
     "language": "python",
     "metadata": {},
     "outputs": [],
     "prompt_number": 1
    },
    {
     "cell_type": "code",
     "collapsed": false,
     "input": [
      "r = requests.get(\"https://genericwitticism.com:8000/\", verify=False)"
     ],
     "language": "python",
     "metadata": {},
     "outputs": [],
     "prompt_number": 2
    },
    {
     "cell_type": "code",
     "collapsed": false,
     "input": [
      "base = \"https://genericwitticism.com:8000/api3/\""
     ],
     "language": "python",
     "metadata": {},
     "outputs": [],
     "prompt_number": 3
    },
    {
     "cell_type": "code",
     "collapsed": false,
     "input": [
      "params={\"session\": \"f23b25c7-d396-487b-b4c3-012035bfd866\"}\n",
      "params[\"command\"] = \"getparty\"\n",
      "r = requests.get(base, params=params, verify=False)"
     ],
     "language": "python",
     "metadata": {},
     "outputs": [],
     "prompt_number": 15
    },
    {
     "cell_type": "code",
     "collapsed": false,
     "input": [
      "r.content"
     ],
     "language": "python",
     "metadata": {},
     "outputs": [
      {
       "output_type": "pyout",
       "prompt_number": 16,
       "text": [
        "'{\"characters\":[]}'"
       ]
      }
     ],
     "prompt_number": 16
    },
    {
     "cell_type": "code",
     "collapsed": false,
     "input": [
      "import time\n",
      "from collections import deque"
     ],
     "language": "python",
     "metadata": {},
     "outputs": [],
     "prompt_number": 2
    },
    {
     "cell_type": "code",
     "collapsed": false,
     "input": [
      "queue = deque([])"
     ],
     "language": "python",
     "metadata": {},
     "outputs": [],
     "prompt_number": 17
    },
    {
     "cell_type": "code",
     "collapsed": false,
     "input": [
      "for i in range(15):\n",
      "    queue.append(i)"
     ],
     "language": "python",
     "metadata": {},
     "outputs": [],
     "prompt_number": 18
    },
    {
     "cell_type": "code",
     "collapsed": false,
     "input": [
      "queue.popleft()"
     ],
     "language": "python",
     "metadata": {},
     "outputs": [
      {
       "output_type": "pyout",
       "prompt_number": 19,
       "text": [
        "0"
       ]
      }
     ],
     "prompt_number": 19
    },
    {
     "cell_type": "code",
     "collapsed": false,
     "input": [
      "class Dispatcher(Object):\n",
      "    def __init__(self):\n",
      "        self.count = 0\n",
      "        self.queue = deque([])\n",
      "    \n",
      "    def get(*args, **kwargs):\n",
      "        if dispatch:\n",
      "            ts = time.time() + 1\n",
      "            count += 1\n",
      "            queue.append((args, kwargs))\n",
      "            \n",
      "            if count >= 10:\n",
      "                dispatch = False\n",
      "\n",
      "        else:\n",
      "            if time.time() > ts:\n",
      "                dispatch = True\n",
      "    \n",
      "        for "
     ],
     "language": "python",
     "metadata": {},
     "outputs": []
    },
    {
     "cell_type": "code",
     "collapsed": false,
     "input": [
      "dispatch = True\n",
      "count = 0\n",
      "queue = deque([])\n",
      "\n",
      "def dispatch_get(*args, **kwargs):\n",
      "    if dispatch:\n",
      "        ts = time.time() + 1\n",
      "        count += 1\n",
      "        queue.append((args, kwargs))\n",
      "        if count >= 10:\n",
      "            dispatch = False\n",
      "    else:\n",
      "        if time.time() > ts:\n",
      "            dispatch = True\n",
      "    \n",
      "    for \n",
      "            \n",
      "    "
     ],
     "language": "python",
     "metadata": {},
     "outputs": [
      {
       "ename": "IndentationError",
       "evalue": "expected an indented block (<ipython-input-20-fa2075b94a6e>, line 14)",
       "output_type": "pyerr",
       "traceback": [
        "\u001b[0;31mIndentationError\u001b[0m\u001b[0;31m:\u001b[0m expected an indented block\n"
       ]
      }
     ],
     "prompt_number": 20
    },
    {
     "cell_type": "code",
     "collapsed": false,
     "input": [
      "r = dispatch_get(base, params=params, verify=False)"
     ],
     "language": "python",
     "metadata": {},
     "outputs": [],
     "prompt_number": 23
    },
    {
     "cell_type": "code",
     "collapsed": false,
     "input": [
      "r.content"
     ],
     "language": "python",
     "metadata": {},
     "outputs": [
      {
       "output_type": "pyout",
       "prompt_number": 24,
       "text": [
        "'{\"characters\":[]}'"
       ]
      }
     ],
     "prompt_number": 24
    },
    {
     "cell_type": "code",
     "collapsed": false,
     "input": [
      "for i in range(15):\n",
      "    q.put((i,i))"
     ],
     "language": "python",
     "metadata": {},
     "outputs": [],
     "prompt_number": "*"
    },
    {
     "cell_type": "markdown",
     "metadata": {},
     "source": [
      "## Challange: 2\n",
      "\n",
      "In the beginning each character has 10 allocation points. each characteristic (\u2018str\u2019, for example) have 10 base points and can be allocated up to 8 allocation points for a total of 18.\n",
      "\n",
      "\u2018Str\u2019 higher than 15 increases attack damage, \u2018dex\u2019 higher than 15 increases chance of attack, defense and speed, \u2018con\u2019 higher than 15 gives additional hit points on level up.\n",
      "Use the following APi call to create a new character;\n",
      "\n",
      "    /api3/?session=<sessionkey>&command=createcharacter&arg={\u2018name\u2019:\u2019foobar\u2019,\u2019str\u2019:\u201915\u2019,\u2019dex\u2019:\u201915\u2019,\u2019con:\u201910\u2019,\u2019int\u2019:\u201910\u2019,\u2019wis\u2019:\u201910\u2019}\n",
      "\n",
      "Then use the getparty API call to make sure that you have a new character in your party.\n",
      "The new information will be an id for the new character. Now use the following API call to get the current status of your newly created character (replace ri4llrZXK with your actual character id, obviously :) ;\n",
      "\n",
      "    /api3/?session=<sessionkey>&command=getcharacter&arg=ri4llrZXK\n",
      "\n",
      "Finally, delete your new character, using the following API call;\n",
      "\n",
      "    /api3/?session=<sessionkey>&command=deletecharacter&arg=ri4llrZXK\n",
      "\n",
      "And verify that the character is indeed deleted by calling getparty once more.\n"
     ]
    },
    {
     "cell_type": "code",
     "collapsed": false,
     "input": [
      "import json"
     ],
     "language": "python",
     "metadata": {},
     "outputs": [],
     "prompt_number": 4
    },
    {
     "cell_type": "code",
     "collapsed": false,
     "input": [
      "base = \"https://genericwitticism.com:8000/api3/\""
     ],
     "language": "python",
     "metadata": {},
     "outputs": [],
     "prompt_number": 5
    },
    {
     "cell_type": "code",
     "collapsed": false,
     "input": [
      "params = {\"session\": \"9956318b-0046-4ecf-a7fa-b46113413bdf\"}\n",
      "params[\"command\"] = \"getparty\"\n",
      "r = requests.get(base, params=params, verify=False)\n",
      "r.content"
     ],
     "language": "python",
     "metadata": {},
     "outputs": [
      {
       "output_type": "pyout",
       "prompt_number": 6,
       "text": [
        "'{\"characters\":[\"r5UUZwdDk\",\"rWPdamr2N\",\"rQd-funv9\",\"rfXYwLD4V\",\"rNYUhXaG5\",\"rZbA_d_0Z\",\"rEEn6h6tI\",\"rNLwd70fP\",\"rxS-2aOHj\",\"rNvJAgCvr\"]}'"
       ]
      }
     ],
     "prompt_number": 6
    },
    {
     "cell_type": "code",
     "collapsed": false,
     "input": [
      "talk = lambda params: requests.get(base, params=params, verify=False)"
     ],
     "language": "python",
     "metadata": {},
     "outputs": [],
     "prompt_number": 7
    },
    {
     "cell_type": "code",
     "collapsed": false,
     "input": [
      "import json"
     ],
     "language": "python",
     "metadata": {},
     "outputs": [],
     "prompt_number": 8
    },
    {
     "cell_type": "code",
     "collapsed": false,
     "input": [
      "params[\"command\"] = \"createcharacter\"\n",
      "character = '{\"name\":\"foo0bar\",\"str\":\"15\",\"dex\":\"15\",\"con\":\"10\",\"int\":\"10\",\"wis\":\"10\"}'\n",
      "params[\"arg\"] = character\n",
      "params"
     ],
     "language": "python",
     "metadata": {},
     "outputs": [
      {
       "output_type": "pyout",
       "prompt_number": 9,
       "text": [
        "{'arg': '{\"name\":\"foo0bar\",\"str\":\"15\",\"dex\":\"15\",\"con\":\"10\",\"int\":\"10\",\"wis\":\"10\"}',\n",
        " 'command': 'createcharacter',\n",
        " 'session': '9956318b-0046-4ecf-a7fa-b46113413bdf'}"
       ]
      }
     ],
     "prompt_number": 9
    },
    {
     "cell_type": "code",
     "collapsed": false,
     "input": [
      "r = talk(params)\n",
      "r\n",
      "print(r.url)\n",
      "r.content"
     ],
     "language": "python",
     "metadata": {},
     "outputs": [
      {
       "output_type": "stream",
       "stream": "stdout",
       "text": [
        "https://genericwitticism.com:8000/api3/?session=9956318b-0046-4ecf-a7fa-b46113413bdf&command=createcharacter&arg=%7B%22name%22%3A%22foo0bar%22%2C%22str%22%3A%2215%22%2C%22dex%22%3A%2215%22%2C%22con%22%3A%2210%22%2C%22int%22%3A%2210%22%2C%22wis%22%3A%2210%22%7D\n"
       ]
      },
      {
       "output_type": "pyout",
       "prompt_number": 10,
       "text": [
        "'{\"error\":\"Unable to parse character object\"}'"
       ]
      }
     ],
     "prompt_number": 10
    },
    {
     "cell_type": "code",
     "collapsed": false,
     "input": [
      "session = \"0c5abbef-c1d4-4fec-a16b-03386f734c68\""
     ],
     "language": "python",
     "metadata": {},
     "outputs": [],
     "prompt_number": 55
    },
    {
     "cell_type": "code",
     "collapsed": false,
     "input": [
      "base = 'https://genericwitticism.com:8000/api3/"
     ],
     "language": "python",
     "metadata": {},
     "outputs": []
    },
    {
     "cell_type": "code",
     "collapsed": false,
     "input": [
      "command = \"createcharacter\""
     ],
     "language": "python",
     "metadata": {},
     "outputs": [],
     "prompt_number": 60
    },
    {
     "cell_type": "code",
     "collapsed": false,
     "input": [
      "character = {\"name\":\"foo0bar\",\"str\":\"15\",\"dex\":\"15\",\"con\":\"10\",\"int\":\"10\",\"wis\":\"10\"}"
     ],
     "language": "python",
     "metadata": {},
     "outputs": [],
     "prompt_number": 61
    },
    {
     "cell_type": "code",
     "collapsed": false,
     "input": [
      "url = base + '?session={}&command={}'.format(session, command) + '&arg={}'.format(json.dumps(character).replace(\" \", \"\"))"
     ],
     "language": "python",
     "metadata": {},
     "outputs": [],
     "prompt_number": 62
    },
    {
     "cell_type": "code",
     "collapsed": false,
     "input": [
      "r = requests.get(url, config={'encode_uri':False}, verify=False)"
     ],
     "language": "python",
     "metadata": {},
     "outputs": [],
     "prompt_number": 63
    },
    {
     "cell_type": "code",
     "collapsed": false,
     "input": [
      "r.content"
     ],
     "language": "python",
     "metadata": {},
     "outputs": [
      {
       "output_type": "pyout",
       "prompt_number": 64,
       "text": [
        "'{\"_id\":\"rgoeVZpD8\",\"name\":\"foo0bar [D05]\",\"exp\":0,\"level\":1,\"str\":15,\"int\":10,\"wis\":10,\"dex\":15,\"con\":10,\"map\":\"Bad feeling ruins\",\"inventory\":[],\"x\":17,\"y\":10,\"hp\":10,\"ac\":10,\"alloc\":0,\"speed\":2,\"light\":3,\"wieldedweapon\":null,\"equippedarmor\":null,\"type\":\"character\",\"hates\":[\"*\"],\"attack\":{\"type\":\"normal\",\"damage\":[1,2]},\"teamabbrev\":\"D05\",\"teamid\":\"rT3mGKRNh\",\"maxhp\":10,\"resource\":\"dungeonthing\"}'"
       ]
      }
     ],
     "prompt_number": 64
    },
    {
     "cell_type": "code",
     "collapsed": false,
     "input": [
      "talk = lambda url: requests.get(url, config={'encode_uri':False}, verify=False)"
     ],
     "language": "python",
     "metadata": {},
     "outputs": [],
     "prompt_number": 49
    },
    {
     "cell_type": "code",
     "collapsed": false,
     "input": [
      "talk(url)"
     ],
     "language": "python",
     "metadata": {},
     "outputs": [
      {
       "output_type": "pyout",
       "prompt_number": 50,
       "text": [
        "<Response [200]>"
       ]
      }
     ],
     "prompt_number": 50
    },
    {
     "cell_type": "code",
     "collapsed": false,
     "input": [
      "_.content"
     ],
     "language": "python",
     "metadata": {},
     "outputs": [
      {
       "output_type": "pyout",
       "prompt_number": 51,
       "text": [
        "'{\"characters\":[\"r5UUZwdDk\",\"rQd-funv9\",\"rEEn6h6tI\",\"rxS-2aOHj\",\"rNvJAgCvr\",\"rAEMbX9l2\",\"rC6RbbLn2\",\"rR0NOzbFR\",\"rarOOCHUT\",\"rA0WOqH4Z\"]}'"
       ]
      }
     ],
     "prompt_number": 51
    },
    {
     "cell_type": "code",
     "collapsed": false,
     "input": [
      "command = \"getcharacter\"\n",
      "url = base + '?session={}&command={}'.format(session, command) + '&arg={}'.format('rWXwHaXeI')"
     ],
     "language": "python",
     "metadata": {},
     "outputs": [],
     "prompt_number": 59
    },
    {
     "cell_type": "code",
     "collapsed": false,
     "input": [
      "r = talk(url)"
     ],
     "language": "python",
     "metadata": {},
     "outputs": [],
     "prompt_number": 43
    },
    {
     "cell_type": "code",
     "collapsed": false,
     "input": [
      "r.content"
     ],
     "language": "python",
     "metadata": {},
     "outputs": [
      {
       "output_type": "pyout",
       "prompt_number": 44,
       "text": [
        "'{\"id\":\"rWXwHaXeI\",\"name\":\"foo0bar [D05]\",\"exp\":0,\"level\":1,\"str\":15,\"int\":10,\"wis\":10,\"dex\":15,\"con\":10,\"map\":\"Bad feeling ruins\",\"x\":0,\"y\":0,\"hp\":\"10/10\",\"ac\":10,\"alloc\":0,\"speed\":2,\"inventory\":[\"rMl1bafJk\",\"rkw-U_yMV\",\"r1B5Y18GQ\",\"rfUWC_RHx\",\"rWMGisFx3\",\"rbjR-VKqN\",\"rh1nOIN4y\",\"rBfmIg48n\",\"rPk0hd2FY\",\"rMl1bafJk\"],\"wieldedweapon\":null,\"wieldedweaponname\":\"none\",\"equippedarmor\":null,\"equippedarmorname\":\"none\"}'"
       ]
      }
     ],
     "prompt_number": 44
    },
    {
     "cell_type": "code",
     "collapsed": false,
     "input": [
      "command = \"deletecharacter\"\n",
      "url = base + '?session={}&command={}'.format(session, command) + '&arg={}'.format('rWXwHaXeI')"
     ],
     "language": "python",
     "metadata": {},
     "outputs": [],
     "prompt_number": 45
    },
    {
     "cell_type": "code",
     "collapsed": false,
     "input": [],
     "language": "python",
     "metadata": {},
     "outputs": [
      {
       "output_type": "pyout",
       "prompt_number": 46,
       "text": [
        "'{\"succes\":\"character foo0bar [D05] [rWXwHaXeI] was deleted.\"}'"
       ]
      }
     ],
     "prompt_number": 46
    },
    {
     "cell_type": "code",
     "collapsed": false,
     "input": [
      "command = \"getparty\"\n",
      "url = base + '?session={}&command={}'.format(session, command)"
     ],
     "language": "python",
     "metadata": {},
     "outputs": [],
     "prompt_number": 47
    },
    {
     "cell_type": "code",
     "collapsed": false,
     "input": [
      "r = talk(url)\n",
      "r.content"
     ],
     "language": "python",
     "metadata": {},
     "outputs": [
      {
       "output_type": "pyout",
       "prompt_number": 48,
       "text": [
        "'{\"characters\":[\"r5UUZwdDk\",\"rWPdamr2N\",\"rQd-funv9\",\"rNYUhXaG5\",\"rEEn6h6tI\",\"rxS-2aOHj\",\"rNvJAgCvr\",\"rAEMbX9l2\",\"rC6RbbLn2\",\"rR0NOzbFR\",\"rarOOCHUT\",\"rwGDbvEJJ\",\"rA0WOqH4Z\"]}'"
       ]
      }
     ],
     "prompt_number": 48
    },
    {
     "cell_type": "markdown",
     "metadata": {},
     "source": [
      "## Challange 3\n",
      "\n",
      "Create an interactive editor for character creation which let you allocate points to different characteristics, change your mind and allocated them differently, and so on. Also make sure that one can edit the name.\n",
      "\n",
      "Also make sure that you have a shorter representation of the character that can be used to display all the characters in the party side by side. \n",
      "\n",
      "Make a view/page/widget/list that always display the members of the party in short format and make it simple to delete a character or add a new one, where each change should be reflected immediately in the new view/page/widget/list.\n"
     ]
    },
    {
     "cell_type": "code",
     "collapsed": false,
     "input": [
      "requests.__version__"
     ],
     "language": "python",
     "metadata": {},
     "outputs": [
      {
       "output_type": "pyout",
       "prompt_number": 52,
       "text": [
        "'0.13.2'"
       ]
      }
     ],
     "prompt_number": 52
    },
    {
     "cell_type": "markdown",
     "metadata": {},
     "source": [
      "## Challange 4\n",
      "\n",
      "The character(s) that have been created have actually appeared in the dungeon already, you just haven\u2019t been able to see it. Let\u2019s do something about that. Use the following API call to scan the surroundings of a given character;\n",
      "\n",
      "    /api3/?session=<sessionkey>&command=scan&arg=ri4llrZXK\n",
      "\n",
      "The data returned will and can contain lots of things, but at the moment we focus only on the surroundings.\n",
      "\n",
      "The \u2018area\u2019 property in the returned data contains an array of arrays which is a simple representation of the surrounding dungeon area that the characters sees. Each cell is a floor tile. The following table explains what kind of information is encoded in the tile;\n",
      "\n",
      "    NOTHING     = 0x00000000;\n",
      "    BLOCKED     = 0x00000001;\n",
      "    ROOM        = 0x00000002;\n",
      "    CORRIDOR    = 0x00000004;\n",
      "    PERIMETER   = 0x00000010;\n",
      "    ENTRANCE    = 0x00000020;\n",
      "    ROOM_ID     = 0x0000FFC0;\n",
      "    ARCH        = 0x00010000;\n",
      "    DOOR        = 0x00020000;\n",
      "    DOOR      = 0x00040000;\n",
      "    DOOR     = 0x00080000;\n",
      "    DOOR      = 0x00100000;\n",
      "    PORTCULLIS   = 0x00200000;\n",
      "    STAIR_DOWN  = 0x00400000;\n",
      "    STAIR_UP    = 0x00800000;\n",
      "    LABEL       = 0xFF000000;\n",
      "\n",
      "The only thing important is to mark blocked areas, which can\u2019t be walked on (like walls), which will be either \u20180\u2019 or have bit 1 set, to mark room number and where the stairs are. \n",
      "\n",
      "Display the map (in some kind of 2D representation) that each character currently see near the short format display for that character.  The \u2018x\u2019 and \u2018y\u2019 properties in the returned data marks the absolute map coordinates where the character is positioned and the \u2018bx\u2019 and \u2018by\u2019 properties denoted the offset in absolute map coordinates for position 0,0 in the \u2018area\u2019 data.\n"
     ]
    },
    {
     "cell_type": "code",
     "collapsed": false,
     "input": [
      "SESSION = \"69238bac-7636-45ee-8a6d-53ff31b50d08\""
     ],
     "language": "python",
     "metadata": {},
     "outputs": [],
     "prompt_number": 66
    },
    {
     "cell_type": "code",
     "collapsed": false,
     "input": [
      "def talk(param):\n",
      "    url = base + \"?\" + \"&\".join([\"=\".join([k, v]) for k, v in param.iteritems()])\n",
      "    return requests.get(url, verify=False, config={'encode_uri': False})"
     ],
     "language": "python",
     "metadata": {},
     "outputs": [],
     "prompt_number": 65
    },
    {
     "cell_type": "code",
     "collapsed": false,
     "input": [
      "param = {}\n",
      "param[\"session\"] = SESSION\n",
      "param[\"command\"] = 'scan'\n",
      "param[\"arg\"] = 'rA0WOqH4Z'\n",
      "r = talk(param)"
     ],
     "language": "python",
     "metadata": {},
     "outputs": [],
     "prompt_number": 67
    },
    {
     "cell_type": "code",
     "collapsed": false,
     "input": [
      "r.content"
     ],
     "language": "python",
     "metadata": {},
     "outputs": [
      {
       "output_type": "pyout",
       "prompt_number": 68,
       "text": [
        "'{\"area\":[[0,0,0],[0,0,0],[0,0,0]],\"entities\":[],\"items\":[],\"map\":\"Bad feeling ruins\",\"bx\":0,\"by\":0,\"x\":0,\"y\":0}'"
       ]
      }
     ],
     "prompt_number": 68
    },
    {
     "cell_type": "code",
     "collapsed": false,
     "input": [
      "param[\"arg\"] = 'rcrbHHiR8'\n",
      "r = talk(param)\n",
      "r.content"
     ],
     "language": "python",
     "metadata": {},
     "outputs": [
      {
       "output_type": "pyout",
       "prompt_number": 70,
       "text": [
        "'{\"area\":[[0,4,0,4,0,0],[4,4,0,4,4,4],[16,16,16,1862402080,16,589299744],[66,70,70,70,70,70],[66,822083654,66,66,66,66],[66,70,70,70,70,70]],\"entities\":[{\"name\":\"Fredrik [B07]\",\"x\":24,\"y\":9,\"_id\":\"rxGh7PGKd\"},{\"name\":\"foo [D05]\",\"x\":23,\"y\":10,\"_id\":\"rJkkjCP6L\"},{\"name\":\"Fighter [D01]\",\"x\":22,\"y\":9,\"_id\":\"rHHHpNRP7\"},{\"name\":\"A [A01]\",\"x\":25,\"y\":10,\"_id\":\"rzwRNtv_G\"},{\"name\":\"s [D03]\",\"x\":23,\"y\":11,\"_id\":\"ro5VOR7_O\"},{\"name\":\"Gubbe2 [B04]\",\"x\":22,\"y\":11,\"_id\":\"rJ4joHCbf\"},{\"name\":\"Gubbe5 [B04]\",\"x\":21,\"y\":11,\"_id\":\"r5SfQph1z\"},{\"name\":\"Gubbe1 [B04]\",\"x\":21,\"y\":10,\"_id\":\"rL24hhrmr\"},{\"name\":\"johan1 [B03]\",\"x\":21,\"y\":9,\"_id\":\"rc77mPP5Q\"}],\"items\":[{\"name\":\"Large healing potion\",\"x\":24,\"y\":11,\"_id\":\"rrmm_fidi\"},{\"name\":\"Small healing potion\",\"x\":24,\"y\":9,\"_id\":\"rwPVNMiak\"},{\"name\":\"Small healing potion\",\"x\":24,\"y\":10,\"_id\":\"rv0JpJozj\"},{\"name\":\"Small healing potion\",\"x\":25,\"y\":8,\"_id\":\"re6s3vv_n\"},{\"name\":\"Small healing potion\",\"x\":27,\"y\":9,\"_id\":\"rUby7mwuy\"},{\"name\":\"Small healing potion\",\"x\":25,\"y\":10,\"_id\":\"r4rB7dI8r\"},{\"name\":\"Small healing potion\",\"x\":25,\"y\":11,\"_id\":\"r3eG55zEZ\"},{\"name\":\"Large healing potion\",\"x\":24,\"y\":11,\"_id\":\"rrmm_fidi\"},{\"name\":\"Small healing potion\",\"x\":23,\"y\":11,\"_id\":\"rj3Z9rO0Y\"},{\"name\":\"Small healing potion\",\"x\":25,\"y\":11,\"_id\":\"r3eG55zEZ\"},{\"name\":\"Small healing potion\",\"x\":23,\"y\":11,\"_id\":\"rj3Z9rO0Y\"},{\"name\":\"Large healing potion\",\"x\":24,\"y\":11,\"_id\":\"rrmm_fidi\"}],\"map\":\"Bad feeling ruins\",\"bx\":20,\"by\":6,\"x\":23,\"y\":9}'"
       ]
      }
     ],
     "prompt_number": 70
    },
    {
     "cell_type": "code",
     "collapsed": false,
     "input": [
      "area = np.array(r.json[\"area\"])"
     ],
     "language": "python",
     "metadata": {},
     "outputs": [],
     "prompt_number": 72
    },
    {
     "cell_type": "code",
     "collapsed": false,
     "input": [
      "area / float(0xFF000000)"
     ],
     "language": "python",
     "metadata": {},
     "outputs": [
      {
       "output_type": "pyout",
       "prompt_number": 84,
       "text": [
        "array([[  0.00000000e+00,   9.34974820e-10,   0.00000000e+00,\n",
        "          9.34974820e-10,   0.00000000e+00,   0.00000000e+00],\n",
        "       [  9.34974820e-10,   9.34974820e-10,   0.00000000e+00,\n",
        "          9.34974820e-10,   9.34974820e-10,   9.34974820e-10],\n",
        "       [  3.73989928e-09,   3.73989928e-09,   3.73989928e-09,\n",
        "          4.35324762e-01,   3.73989928e-09,   1.37745106e-01],\n",
        "       [  1.54270845e-08,   1.63620594e-08,   1.63620594e-08,\n",
        "          1.63620594e-08,   1.63620594e-08,   1.63620594e-08],\n",
        "       [  1.54270845e-08,   1.92156879e-01,   1.54270845e-08,\n",
        "          1.54270845e-08,   1.54270845e-08,   1.54270845e-08],\n",
        "       [  1.54270845e-08,   1.63620594e-08,   1.63620594e-08,\n",
        "          1.63620594e-08,   1.63620594e-08,   1.63620594e-08]])"
       ]
      }
     ],
     "prompt_number": 84
    },
    {
     "cell_type": "code",
     "collapsed": false,
     "input": [
      "figsize(10,8)\n",
      "plt.subplot(111)\n",
      "extent = np.array([r.json[\"bx\"], r.json[\"bx\"] + area.shape[0], r.json[\"by\"], r.json[\"by\"] + area.shape[1]]) + 0.5\n",
      "plt.imshow(area / float(0xFF000000), interpolation='none', cmap=cm.Accent, extent=extent)\n",
      "x, y = np.nonzero((area % 2))\n",
      "if len(x) > 0:\n",
      "    plt.scatter(x, y, edgecolor='none', label=\"BLOCKED\")\n",
      "\n",
      "plt.text(r.json[\"x\"] + 0.5, r.json[\"y\"] + 0.5, 'rA0WOqH4Z', horizontalalignment='center',\n",
      "         verticalalignment='center')\n",
      "\n",
      "plt.title(\"Types\")\n",
      "plt.legend()\n",
      "\n",
      "plt.grid(True)"
     ],
     "language": "python",
     "metadata": {},
     "outputs": [
      {
       "output_type": "display_data",
       "png": "[encoded data removed]"
      }
     ],
     "prompt_number": 125
    },
    {
     "cell_type": "code",
     "collapsed": false,
     "input": [
      "plt.text?"
     ],
     "language": "python",
     "metadata": {},
     "outputs": [],
     "prompt_number": 123
    },
    {
     "cell_type": "code",
     "collapsed": false,
     "input": [
      "r.json"
     ],
     "language": "python",
     "metadata": {},
     "outputs": [
      {
       "output_type": "pyout",
       "prompt_number": 107,
       "text": [
        "{u'area': [[0, 4, 0, 4, 0, 0],\n",
        "  [4, 4, 0, 4, 4, 4],\n",
        "  [16, 16, 16, 1862402080, 16, 589299744],\n",
        "  [66, 70, 70, 70, 70, 70],\n",
        "  [66, 822083654, 66, 66, 66, 66],\n",
        "  [66, 70, 70, 70, 70, 70]],\n",
        " u'bx': 20,\n",
        " u'by': 6,\n",
        " u'entities': [{u'_id': u'rxGh7PGKd',\n",
        "   u'name': u'Fredrik [B07]',\n",
        "   u'x': 24,\n",
        "   u'y': 9},\n",
        "  {u'_id': u'rJkkjCP6L', u'name': u'foo [D05]', u'x': 23, u'y': 10},\n",
        "  {u'_id': u'rHHHpNRP7', u'name': u'Fighter [D01]', u'x': 22, u'y': 9},\n",
        "  {u'_id': u'rzwRNtv_G', u'name': u'A [A01]', u'x': 25, u'y': 10},\n",
        "  {u'_id': u'ro5VOR7_O', u'name': u's [D03]', u'x': 23, u'y': 11},\n",
        "  {u'_id': u'rJ4joHCbf', u'name': u'Gubbe2 [B04]', u'x': 22, u'y': 11},\n",
        "  {u'_id': u'r5SfQph1z', u'name': u'Gubbe5 [B04]', u'x': 21, u'y': 11},\n",
        "  {u'_id': u'rL24hhrmr', u'name': u'Gubbe1 [B04]', u'x': 21, u'y': 10},\n",
        "  {u'_id': u'rc77mPP5Q', u'name': u'johan1 [B03]', u'x': 21, u'y': 9}],\n",
        " u'items': [{u'_id': u'rrmm_fidi',\n",
        "   u'name': u'Large healing potion',\n",
        "   u'x': 24,\n",
        "   u'y': 11},\n",
        "  {u'_id': u'rwPVNMiak', u'name': u'Small healing potion', u'x': 24, u'y': 9},\n",
        "  {u'_id': u'rv0JpJozj', u'name': u'Small healing potion', u'x': 24, u'y': 10},\n",
        "  {u'_id': u're6s3vv_n', u'name': u'Small healing potion', u'x': 25, u'y': 8},\n",
        "  {u'_id': u'rUby7mwuy', u'name': u'Small healing potion', u'x': 27, u'y': 9},\n",
        "  {u'_id': u'r4rB7dI8r', u'name': u'Small healing potion', u'x': 25, u'y': 10},\n",
        "  {u'_id': u'r3eG55zEZ', u'name': u'Small healing potion', u'x': 25, u'y': 11},\n",
        "  {u'_id': u'rrmm_fidi', u'name': u'Large healing potion', u'x': 24, u'y': 11},\n",
        "  {u'_id': u'rj3Z9rO0Y', u'name': u'Small healing potion', u'x': 23, u'y': 11},\n",
        "  {u'_id': u'r3eG55zEZ', u'name': u'Small healing potion', u'x': 25, u'y': 11},\n",
        "  {u'_id': u'rj3Z9rO0Y', u'name': u'Small healing potion', u'x': 23, u'y': 11},\n",
        "  {u'_id': u'rrmm_fidi',\n",
        "   u'name': u'Large healing potion',\n",
        "   u'x': 24,\n",
        "   u'y': 11}],\n",
        " u'map': u'Bad feeling ruins',\n",
        " u'x': 23,\n",
        " u'y': 9}"
       ]
      }
     ],
     "prompt_number": 107
    },
    {
     "cell_type": "markdown",
     "metadata": {},
     "source": [
      "## Challange 4\n",
      "\n",
      "It\u2019s time to move around. A character can move in one of eight directions, conveniently named \u2018left', 'right', 'up', 'down', 'upleft', 'upright', 'downleft', and 'downright'.\n",
      "\n",
      "The API call to move about a character is;\n",
      "\n",
      "    /api3/?session=<sessionkey>&command=move&arg=ri4llrZXK&dir=up\n",
      "\n",
      "make sure to scan after moving. Actually it would be a good idea to scan several times a second, as long as you don\u2019t exceed the 10 requests/second budget together with any other stuff you\u2019re doing.\n",
      "\n",
      "Oh, and one more thing, before moving, make sure you\u2019re not moving into someone you wouldn\u2019t want to move in to. Moving into a cell where someone is standing is how you attack, so be careful.\n",
      "\n",
      "The \u2018entities\u2019 array returned by the scan call contain any other entities that the characters sees at the moment. Make sure to make changes to your map so that it also plots nearby entities and clearly mark the name of the entity at the side of the map.\n"
     ]
    },
    {
     "cell_type": "code",
     "collapsed": false,
     "input": [],
     "language": "python",
     "metadata": {},
     "outputs": []
    }
   ],
   "metadata": {}
  }
 ]
}